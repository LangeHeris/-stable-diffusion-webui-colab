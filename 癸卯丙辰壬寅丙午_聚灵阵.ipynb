{
  "cells": [
    {
      "cell_type": "markdown",
      "metadata": {
        "id": "view-in-github",
        "colab_type": "text"
      },
      "source": [
        "<a href=\"https://colab.research.google.com/github/LangeHeris/stable-diffusion-webui-colab/blob/main/%E7%99%B8%E5%8D%AF%E4%B8%99%E8%BE%B0%E5%A3%AC%E5%AF%85%E4%B8%99%E5%8D%88_%E8%81%9A%E7%81%B5%E9%98%B5.ipynb\" target=\"_parent\"><img src=\"https://colab.research.google.com/assets/colab-badge.svg\" alt=\"Open In Colab\"/></a>"
      ]
    },
    {
      "cell_type": "code",
      "source": [
        "%cd /content\n",
        "from google.colab import drive\n",
        "drive.mount('/content/drive')\n",
        "import os\n",
        "\n",
        "#环境匹配\n",
        "!pip install torchvision==0.15.1\n",
        "!pip install -U xformers\n",
        "!apt -y install -qq aria2\n",
        "\n",
        "#下载整合包，同步配置文件\n",
        "!test -f /content/drive/MyDrive/SD-WebUI-Colab.zip || aria2c --console-log-level=error -c -x 16 -k 1M -s 16 https://huggingface.co/langeheris/P-SD-Model/resolve/main/SD-WebUI-Colab.zip -o SD-WebUI-Colab.zip -d /content\n",
        "!test -f /content/SD-WebUI-Colab.zip && unzip /content/SD-WebUI-Colab.zip -d /content || unzip /content/drive/MyDrive/SD-WebUI-Colab.zip -d /content\n",
        "!test -f /content/drive/MyDrive/stable-diffusion-models/config.json && ln -sf /content/drive/MyDrive/stable-diffusion-models/config.json /content/stable-diffusion-webui-master/config.json\n",
        "!rm SD-WebUI-Colab.zip\n",
        "\n",
        "#@markdown #备份整合包到云盘，下次从云盘解压。\n",
        "save = False #@param {type:\"boolean\"}\n",
        "if save:\n",
        "  !test -f /content/drive/MyDrive/SD-WebUI-Colab.zip || cp /content/SD-WebUI-Colab.zip /content/drive/MyDrive/\n",
        "\n",
        "#@markdown #复制云端模型\n",
        "!test -d /content/drive/MyDrive/stable-diffusion-models/models || mkdir /content/drive/MyDrive/stable-diffusion-models/models -p\n",
        "\n",
        "use_drive = False #@param {type:\"boolean\"}\n",
        "if use_drive:\n",
        "  !cp -r /content/drive/MyDrive/stable-diffusion-models/models /content/stable-diffusion-webui-master/\n",
        "\n",
        "#@markdown ###复制云端模型-启用Additional-networks-改变Lora路径\n",
        "M2l = False #@param {type:\"boolean\"}\n",
        "if M2l:\n",
        "  !cp -r /content/drive/MyDrive/stable-diffusion-models/models/Lora/* /content/stable-diffusion-webui-master/extensions/sd-webui-additional-networks/models/lora\n",
        "\n",
        "#@markdown #使用共享模型\n",
        "SHARE_SD_PATH = \"/content/drive/MyDrive/share_stable-diffusion/\"\n",
        "SHARE_LORA_PATH = \"/content/drive/MyDrive/share_lora/\"\n",
        "share = True #@param {type:\"boolean\"}\n",
        "if share:\n",
        "    share_stable_diffusion_list = [\n",
        "        #\"meinamix_meinaV8.safetensors\",\n",
        "        #\"chilloutmix_NiPrunedFp32Fix.safetensors\",\n",
        "    ]\n",
        "    share_lora_list = [\n",
        "        \"Colorwater_v4.safetensors\",\n",
        "    ]\n",
        "    for sdl in share_stable_diffusion_list:\n",
        "        !cp -r \"{SHARE_SD_PATH}/{sdl}\" /content/stable-diffusion-webui-master/models/Stable-diffusion\n",
        "    for ll in share_lora_list:\n",
        "        !cp -r \"{SHARE_LORA_PATH}/{ll}\" /content/stable-diffusion-webui-master/models/lora\n",
        "\n",
        "#@markdown #使用官方VAE\n",
        "VAE = True #@param {type:\"boolean\"}\n",
        "if VAE:\n",
        "  !aria2c --console-log-level=error -c -x 16 -k 1M -s 16 https://huggingface.co/stabilityai/sd-vae-ft-mse-original/resolve/main/vae-ft-mse-840000-ema-pruned.safetensors -o vae-ft-mse-840000-ema-pruned.safetensors -d /content/stable-diffusion-webui-master/models/VAE\n",
        "\n",
        "#@markdown #下载额外扩展\n",
        "E_PATH = \"/content/stable-diffusion-webui-master/extensions\"\n",
        "extensions = True #@param {type:\"boolean\"}\n",
        "if extensions:\n",
        "  extension_names = [\n",
        "    \"https://github.com/etherealxx/batchlinks-webui\",\n",
        "    \"https://github.com/Mikubill/sd-webui-controlnet\",\n",
        "    \"https://github.com/camenduru/stable-diffusion-webui-huggingface\",\n",
        "    #\"https://github.com/albarji/mixture-of-diffusers\",\n",
        "    \"https://github.com/pkuliyi2015/multidiffusion-upscaler-for-automatic1111\"\n",
        "  ]\n",
        "  \n",
        "  for url in extension_names:\n",
        "    !git clone {url} {E_PATH}/{url.split(\"/\")[-1]}\n",
        "\n",
        "#@markdown #直接启动\n",
        "start = False #@param {type:\"boolean\"}\n",
        "if start:\n",
        "  %cd /content/stable-diffusion-webui-master\n",
        "  !python launch.py --share --xformers --enable-insecure-extension-access --theme dark --gradio-queue"
      ],
      "metadata": {
        "id": "vfBgeF9rHqV1"
      },
      "execution_count": null,
      "outputs": []
    },
    {
      "cell_type": "markdown",
      "source": [
        "【[AI词汇加速器](https://ai.dawnmark.cn/)】\n",
        "【[Danbooru 标签超市](https://tags.novelai.dev/)】\n",
        "【[Aigodlike社区](https://www.aigodlike.com/)】\n",
        "【[Arthub](https://arthub.ai/)】\n",
        "【[Civitai](https://civitai.com/)】"
      ],
      "metadata": {
        "id": "b78fZgmJU5Yz"
      }
    },
    {
      "cell_type": "code",
      "source": [
        "#启动聚灵阵\n",
        "%cd /content/stable-diffusion-webui-master\n",
        "!python launch.py --share --xformers --enable-insecure-extension-access --theme dark --gradio-queue --no-half-vae"
      ],
      "metadata": {
        "id": "k1MHJABfuYgR"
      },
      "execution_count": null,
      "outputs": []
    },
    {
      "cell_type": "code",
      "source": [
        "#同步配置文件\n",
        "!cp /content/stable-diffusion-webui-master/config.json /content/drive/MyDrive/stable-diffusion-models\n",
        "!ln -sf /content/drive/MyDrive/stable-diffusion-models/config.json /content/stable-diffusion-webui-master/config.json"
      ],
      "metadata": {
        "id": "oolImhSMJYZ3"
      },
      "execution_count": null,
      "outputs": []
    },
    {
      "cell_type": "code",
      "source": [
        "#下载模型\n",
        "P_SD_Model = \"https://huggingface.co/langeheris/P-SD-Model/resolve/main/\"\n",
        "Stable_diffusion_list = [\n",
        "#mistoonanime v1\n",
        "#https://civitai.com/api/download/models/28861\n",
        "\"painting_v3/dalcefopaintingv3.safetensors\",\n",
        "#\"mindplayer-floralboys/mindplayerFloralboys_mindplayerFloralboys.ckpt\",\n",
        "#\"dalcefo_painting_v5/dalcefo_painting_v5.safetensors\",\n",
        "#\"darkSushiMixMix/darkSushiMixMix_brighterPruned.safetensors\",\n",
        "\"darkSushiMixMix_brighter/darkSushiMixMix_brighter.safetensors\",\n",
        "#\"anythingelseV4/anythingelseV4_v45.safetensors\",\n",
        "\"tmndMixIII/tmndMix_tmndMixIII.safetensors\",\n",
        "\"blueboys2D_v2/blueboys2D_v20.safetensors\",\n",
        "\"pastelboys2D_v2/pastelboys2D_v20.safetensors\",\n",
        "#\"pastelboys2D_v3/pastelboys2D_v30.safetensors\",\n",
        "\"cetusMix_Coda2/cetusMix_Coda2.safetensors\",\n",
        "]\n",
        "Lora_list = [\n",
        "#2D Sprite style\n",
        "#\"https://civitai.com/api/download/models/29226\",    \n",
        "\"pastelMixStylizedAnime_pastelMixLoraVersion.safetensors\",\n",
        "\"sunAndShadow_v10.safetensors\",\n",
        "\"adventurers_v1.safetensors\",\n",
        "#\"Colorwater_v4.safetensors\",\n",
        "\"Moxin_Shukezouma11.safetensors\",\n",
        "\"lora-Moxin_10.safetensors\",\n",
        "\"lora-Xiaorenshu_v20.safetensors\",\n",
        "\"lora-tokiameStyleThick_1.safetensors\",\n",
        "]\n",
        "ControlNet_list = [\n",
        "#黑色背景上带有白色边缘的单色图像。\n",
        "#\"https://huggingface.co/lllyasviel/ControlNet/resolve/main/models/control_sd15_canny.pth\",\n",
        "#灰色图像，黑色表示深区域，白色表示浅区域。\n",
        "#\"https://huggingface.co/lllyasviel/ControlNet/resolve/main/models/control_sd15_depth.pth\",\n",
        "#黑色背景上带有白色柔和边缘的单色图像。\n",
        "#\"https://huggingface.co/lllyasviel/ControlNet/resolve/main/models/control_sd15_hed.pth\",\n",
        "#仅由黑色背景上的白色直线组成的单色图像。\n",
        "#\"https://huggingface.co/lllyasviel/ControlNet/resolve/main/models/control_sd15_mlsd.pth\",\n",
        "#法线映射图像。\n",
        "#\"https://huggingface.co/lllyasviel/ControlNet/resolve/main/models/control_sd15_normal.pth\",\n",
        "#OpenPose 骨骼图像。\n",
        "#\"https://huggingface.co/lllyasviel/ControlNet/resolve/main/models/control_sd15_openpose.pth\",\n",
        "#手绘单色图像，黑色背景上有白色轮廓。\n",
        "#\"https://huggingface.co/lllyasviel/ControlNet/resolve/main/models/control_sd15_scribble.pth\",\n",
        "#ADE20K的分段协议图像。\n",
        "#\"https://huggingface.co/lllyasviel/ControlNet/resolve/main/models/control_sd15_seg.pth\"\n",
        "]\n",
        "\n",
        "S_PATH = \"/content/stable-diffusion-webui-master/models/Stable-diffusion\"\n",
        "#@markdown #选择Lora路径，启用Additional-networks选择第二个。\n",
        "L_PATH = \"/content/stable-diffusion-webui-master/extensions/sd-webui-additional-networks/models/lora\" #@param [\"/content/stable-diffusion-webui-master/models/Lora\",\"/content/stable-diffusion-webui-master/extensions/sd-webui-additional-networks/models/lora\"]\n",
        "C_PATH = \"/content/stable-diffusion-webui-master/models/ControlNet\"\n",
        "\n",
        "for url in Stable_diffusion_list:\n",
        "    if 'http' not in url:\n",
        "        url = P_SD_Model + url\n",
        "    if 'huggingface.co' in url:\n",
        "        filename = url.split(\"/\")[-1]\n",
        "    else:\n",
        "        filename = \"\"\n",
        "        \n",
        "    !aria2c --console-log-level=error -c -x 16 -k 1M -s 16 {url} {(\"-o \" + filename) if filename else \"\"} -d {S_PATH}\n",
        "\n",
        "for url in Lora_list:\n",
        "    if 'http' not in url:\n",
        "        url = P_SD_Model + url\n",
        "    if 'huggingface.co' in url:\n",
        "        filename = url.split(\"/\")[-1]\n",
        "    else:\n",
        "        filename = \"\"  \n",
        "    !aria2c --console-log-level=error -c -x 16 -k 1M -s 16 {url} {(\"-o \" + filename) if filename else \"\"} -d {L_PATH}\n",
        "\n",
        "for url in ControlNet_list:\n",
        "    if 'huggingface.co' in url:\n",
        "        filename = url.split(\"/\")[-1]\n",
        "    else:\n",
        "        filename = \"\"\n",
        "        \n",
        "    !aria2c --console-log-level=error -c -x 16 -k 1M -s 16 {url} {(\"-o \" + filename) if filename else \"\"} -d {C_PATH}\n",
        "\n",
        "#@markdown 模型备份到云盘,确保有足够空间。\n",
        "\n",
        "#@markdown #Stable-diffusion 备份到云盘,确保有足够空间。\n",
        "M_S2D = False #@param {type:\"boolean\"}\n",
        "M_S2D = True #@param {type:\"boolean\"}\n",
        "if M_S2D:\n",
        "  !test -f /content/drive/MyDrive/stable-diffusion-models/models/Stable-diffusion || mkdir /content/drive/MyDrive/stable-diffusion-models/models/Stable-diffusion\n",
        "  !cp -r {S_PATH}/* /content/drive/MyDrive/stable-diffusion-models/models/Stable-diffusion\n",
        "#@markdown #Lora 备份到云盘,确保有足够空间。 \n",
        "\n",
        "L_S2D = True #@param {type:\"boolean\"}\n",
        "if L_S2D:\n",
        "  !test -f /content/drive/MyDrive/stable-diffusion-models/models/Lora || mkdir /content/drive/MyDrive/stable-diffusion-models/models/Lora\n",
        "  !cp -r {L_PATH}/* /content/drive/MyDrive/stable-diffusion-models/models/Lora"
      ],
      "metadata": {
        "id": "1p64KesMShRv"
      },
      "execution_count": null,
      "outputs": []
    },
    {
      "cell_type": "code",
      "source": [
        "S_PATH = \"/content/stable-diffusion-webui-master/models/Stable-diffusion\"\n",
        "M_S2D = True #@param {type:\"boolean\"}\n",
        "if M_S2D:\n",
        "  !test -f /content/drive/MyDrive/stable-diffusion-models/models/Stable-diffusion || mkdir /content/drive/MyDrive/stable-diffusion-models/models/Stable-diffusion\n",
        "  !cp -r {S_PATH}/* /content/drive/MyDrive/stable-diffusion-models/models/Stable-diffusion"
      ],
      "metadata": {
        "id": "2CxVlSwetu8w"
      },
      "execution_count": null,
      "outputs": []
    }
  ],
  "metadata": {
    "colab": {
      "provenance": [],
      "include_colab_link": true
    },
    "gpuClass": "standard",
    "kernelspec": {
      "display_name": "Python 3",
      "name": "python3"
    },
    "language_info": {
      "name": "python"
    },
    "accelerator": "GPU"
  },
  "nbformat": 4,
  "nbformat_minor": 0
}